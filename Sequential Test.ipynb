{
 "cells": [
  {
   "cell_type": "code",
   "execution_count": 1,
   "id": "2b4bad29",
   "metadata": {},
   "outputs": [
    {
     "name": "stderr",
     "output_type": "stream",
     "text": [
      "/var/folders/g1/pdsb5q1j5k1fd8sr26nv9pqh0000gn/T/ipykernel_58029/2810584121.py:4: UserWarning: A NumPy version >=1.22.4 and <2.3.0 is required for this version of SciPy (detected version 1.21.0)\n",
      "  from scipy.signal import savgol_filter\n"
     ]
    }
   ],
   "source": [
    "import numpy as np\n",
    "import matplotlib.pyplot as plt\n",
    "from astropy.io import fits\n",
    "from scipy.signal import savgol_filter\n",
    "import warnings\n",
    "import sys"
   ]
  },
  {
   "cell_type": "code",
   "execution_count": 2,
   "id": "f4cfcbef",
   "metadata": {},
   "outputs": [],
   "source": [
    "warnings.filterwarnings('ignore')"
   ]
  },
  {
   "cell_type": "code",
   "execution_count": 3,
   "id": "3170549b",
   "metadata": {},
   "outputs": [],
   "source": [
    "try:\n",
    "    from pytransit import QuadraticModel\n",
    "    PYTRANSIT_AVAILABLE = True\n",
    "except ImportError:\n",
    "    PYTRANSIT_AVAILABLE = False\n",
    "    warnings.warn(\"pytransit not available. Using simplified transit model.\")"
   ]
  },
  {
   "cell_type": "code",
   "execution_count": 4,
   "id": "ee136553",
   "metadata": {},
   "outputs": [],
   "source": [
    "try:\n",
    "    from sklearn.ensemble import RandomForestClassifier\n",
    "    from sklearn.metrics import roc_curve, auc, RocCurveDisplay\n",
    "    from sklearn.model_selection import train_test_split\n",
    "    SKLEARN_AVAILABLE = True\n",
    "except ImportError:\n",
    "    SKLEARN_AVAILABLE = False\n",
    "    warnings.warn(\"scikit-learn not available. Model training disabled.\")"
   ]
  },
  {
   "cell_type": "code",
   "execution_count": 5,
   "id": "2c0b8966",
   "metadata": {},
   "outputs": [],
   "source": [
    "class TransitModel:\n",
    "    \"\"\"Fallback transit model if pytransit is not available\"\"\"\n",
    "    @staticmethod\n",
    "    def simple_transit_model(t, t0, duration, depth):\n",
    "        \"\"\"Simplified box-shaped transit model\"\"\"\n",
    "        in_transit = (t >= t0 - duration/2) & (t <= t0 + duration/2)\n",
    "        flux = np.ones_like(t)\n",
    "        flux[in_transit] = 1 - depth\n",
    "        return flux"
   ]
  },
  {
   "cell_type": "code",
   "execution_count": 6,
   "id": "8d8863e8",
   "metadata": {},
   "outputs": [],
   "source": [
    "class TransitDataGenerator:\n",
    "    \"\"\"Generates synthetic transit light curves\"\"\"\n",
    "    def __init__(self):\n",
    "        self.model = QuadraticModel() if PYTRANSIT_AVAILABLE else TransitModel()\n",
    "        \n",
    "    def generate_light_curve(self, params, n_points=1000, noise_level=0.001):\n",
    "        t = np.linspace(params['t0'] - params['duration']/2, \n",
    "                        params['t0'] + params['duration']/2, \n",
    "                        n_points)\n",
    "        \n",
    "        if PYTRANSIT_AVAILABLE:\n",
    "            self.model.set_data(t)\n",
    "            flux = self.model.evaluate(\n",
    "                k=params['rp'], \n",
    "                ldc=params['u'],\n",
    "                t0=params['t0'],\n",
    "                p=params['period'],\n",
    "                a=params['a'],\n",
    "                i=90,\n",
    "                e=params.get('e', 0),\n",
    "                w=params.get('w', 90)\n",
    "            )\n",
    "        else:\n",
    "            # Use simplified model if pytransit not available\n",
    "            depth = params['rp']**2  # Approximation\n",
    "            flux = self.model.simple_transit_model(\n",
    "                t, params['t0'], params['duration'], depth\n",
    "            )\n",
    "        \n",
    "        flux += np.random.normal(0, noise_level, len(flux))\n",
    "        return t, flux\n",
    "    \n",
    "    def generate_dataset(self, n_samples=1000, positive_ratio=0.5):\n",
    "        n_positive = int(n_samples * positive_ratio)\n",
    "        n_negative = n_samples - n_positive\n",
    "        \n",
    "        X, y = [], []\n",
    "        \n",
    "        # Positive samples\n",
    "        for _ in range(n_positive):\n",
    "            params = {\n",
    "                't0': 0.5,\n",
    "                'period': np.random.uniform(5, 20),\n",
    "                'a': np.random.uniform(5, 20),\n",
    "                'rp': np.random.uniform(0.01, 0.1),\n",
    "                'u': [np.random.uniform(0.1, 0.3), np.random.uniform(0.1, 0.3)],\n",
    "                'duration': np.random.uniform(0.05, 0.2)\n",
    "            }\n",
    "            _, flux = self.generate_light_curve(params)\n",
    "            X.append(flux)\n",
    "            y.append(1)\n",
    "        \n",
    "        # Negative samples\n",
    "        for _ in range(n_negative):\n",
    "            flux = 1 + np.random.normal(0, 0.001, 1000)\n",
    "            X.append(flux)\n",
    "            y.append(0)\n",
    "            \n",
    "        return np.array(X), np.array(y)"
   ]
  },
  {
   "cell_type": "code",
   "execution_count": 7,
   "id": "3897de57",
   "metadata": {},
   "outputs": [],
   "source": [
    "class FITSProcessor:\n",
    "    \"\"\"Processes FITS files to extract light curves\"\"\"\n",
    "    @staticmethod\n",
    "    def process_fits(filepath):\n",
    "        try:\n",
    "            with fits.open(filepath) as hdul:\n",
    "                data = hdul[0].data\n",
    "                if data.ndim == 5 and data.shape[2:] == (1, 1, 4):\n",
    "                    return np.mean(data[:, :, 0, 0, 0], axis=(0, 1))\n",
    "                return np.mean(data, axis=(0, 1))\n",
    "        except Exception as e:\n",
    "            raise ValueError(f\"Error processing FITS file: {str(e)}\")\n",
    "    \n",
    "    @staticmethod\n",
    "    def preprocess_light_curve(light_curve, window_length=51, polyorder=3):\n",
    "        try:\n",
    "            smoothed = savgol_filter(light_curve, window_length, polyorder)\n",
    "            return smoothed / np.median(smoothed)\n",
    "        except:\n",
    "            # Fallback simple normalization if smoothing fails\n",
    "            return light_curve / np.median(light_curve)"
   ]
  },
  {
   "cell_type": "code",
   "execution_count": 8,
   "id": "31dbd3d7",
   "metadata": {},
   "outputs": [],
   "source": [
    "class TransitClassifier:\n",
    "    \"\"\"Classifier for detecting planetary transits\"\"\"\n",
    "    def __init__(self):\n",
    "        self.model = None\n",
    "        if not SKLEARN_AVAILABLE:\n",
    "            raise ImportError(\"scikit-learn is required for classification\")\n",
    "        \n",
    "    def train(self, X_train, y_train):\n",
    "        self.model = RandomForestClassifier(\n",
    "            n_estimators=100, \n",
    "            random_state=42,\n",
    "            n_jobs=-1  # Use all available cores\n",
    "        )\n",
    "        self.model.fit(X_train, y_train)\n",
    "        \n",
    "    def evaluate(self, X_test, y_test):\n",
    "        y_proba = self.model.predict_proba(X_test)[:, 1]\n",
    "        fpr, tpr, _ = roc_curve(y_test, y_proba)\n",
    "        roc_auc = auc(fpr, tpr)\n",
    "        \n",
    "        plt.figure()\n",
    "        RocCurveDisplay(fpr=fpr, tpr=tpr, roc_auc=roc_auc).plot()\n",
    "        plt.title('ROC Curve')\n",
    "        plt.show()\n",
    "        \n",
    "        return roc_auc\n",
    "    \n",
    "    def predict(self, X):\n",
    "        return self.model.predict(X), self.model.predict_proba(X)[:, 1]"
   ]
  },
  {
   "cell_type": "code",
   "execution_count": 9,
   "id": "a7bd82cd",
   "metadata": {},
   "outputs": [],
   "source": [
    "class ExoplanetPipeline:\n",
    "    \"\"\"End-to-end exoplanet detection pipeline\"\"\"\n",
    "    def __init__(self):\n",
    "        self.data_gen = TransitDataGenerator()\n",
    "        self.fits_processor = FITSProcessor()\n",
    "        if SKLEARN_AVAILABLE:\n",
    "            self.classifier = TransitClassifier()\n",
    "        else:\n",
    "            self.classifier = None\n",
    "    \n",
    "    def run_training(self, synthetic_samples=5000, test_size=0.2):\n",
    "        if not SKLEARN_AVAILABLE:\n",
    "            raise RuntimeError(\"scikit-learn is required for training\")\n",
    "            \n",
    "        X, y = self.data_gen.generate_dataset(n_samples=synthetic_samples)\n",
    "        X_train, X_test, y_train, y_test = train_test_split(\n",
    "            X, y, test_size=test_size, random_state=42\n",
    "        )\n",
    "        \n",
    "        self.classifier.train(X_train, y_train)\n",
    "        roc_auc = self.classifier.evaluate(X_test, y_test)\n",
    "        print(f\"Model trained with AUC: {roc_auc:.3f}\")\n",
    "    \n",
    "    def predict_from_fits(self, filepath):\n",
    "        if self.classifier is None:\n",
    "            raise RuntimeError(\"Classifier not trained or scikit-learn not available\")\n",
    "            \n",
    "        lc = self.fits_processor.process_fits(filepath)\n",
    "        processed_lc = self.fits_processor.preprocess_light_curve(lc)\n",
    "        pred, prob = self.classifier.predict(processed_lc.reshape(1, -1))\n",
    "        \n",
    "        print(f\"Result: {'TRANSIT' if pred[0] else 'NO TRANSIT'} (confidence: {prob[0]:.2%})\")\n",
    "        return pred[0], prob[0]"
   ]
  },
  {
   "cell_type": "code",
   "execution_count": 10,
   "id": "8333ebc8",
   "metadata": {},
   "outputs": [
    {
     "name": "stdout",
     "output_type": "stream",
     "text": [
      "Running training...\n"
     ]
    },
    {
     "data": {
      "text/plain": [
       "<Figure size 432x288 with 0 Axes>"
      ]
     },
     "metadata": {},
     "output_type": "display_data"
    },
    {
     "data": {
      "image/png": "[encoded data removed]",
      "text/plain": [
       "<Figure size 432x288 with 1 Axes>"
      ]
     },
     "metadata": {
      "needs_background": "light"
     },
     "output_type": "display_data"
    },
    {
     "name": "stdout",
     "output_type": "stream",
     "text": [
      "Model trained with AUC: 0.990\n"
     ]
    }
   ],
   "source": [
    "if __name__ == \"__main__\":\n",
    "    try:\n",
    "        pipeline = ExoplanetPipeline()\n",
    "        \n",
    "        # Example training and prediction\n",
    "        if SKLEARN_AVAILABLE:\n",
    "            print(\"Running training...\")\n",
    "            pipeline.run_training(synthetic_samples=1000)  # Smaller for demo\n",
    "            \n",
    "            # Example prediction (would need real FITS file)\n",
    "            # pipeline.predict_from_fits(\"observation.fits\")\n",
    "        else:\n",
    "            print(\"scikit-learn not available - running in data generation mode only\")\n",
    "            X, y = pipeline.data_gen.generate_dataset(n_samples=10)\n",
    "            print(\"Generated sample data shapes:\", X.shape, y.shape)\n",
    "            \n",
    "    except Exception as e:\n",
    "        print(f\"Error: {str(e)}\", file=sys.stderr)"
   ]
  },
  {
   "cell_type": "code",
   "execution_count": null,
   "id": "d52ff088",
   "metadata": {},
   "outputs": [],
   "source": []
  }
 ],
 "metadata": {
  "kernelspec": {
   "display_name": "Python 3 (ipykernel)",
   "language": "python",
   "name": "python3"
  },
  "language_info": {
   "codemirror_mode": {
    "name": "ipython",
    "version": 3
   },
   "file_extension": ".py",
   "mimetype": "text/x-python",
   "name": "python",
   "nbconvert_exporter": "python",
   "pygments_lexer": "ipython3",
   "version": "3.9.12"
  }
 },
 "nbformat": 4,
 "nbformat_minor": 5
}
